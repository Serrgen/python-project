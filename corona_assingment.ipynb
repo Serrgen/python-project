{
  "nbformat": 4,
  "nbformat_minor": 0,
  "metadata": {
    "colab": {
      "name": "corona assingment.ipynb",
      "provenance": [],
      "collapsed_sections": []
    },
    "kernelspec": {
      "name": "python3",
      "display_name": "Python 3"
    },
    "language_info": {
      "name": "python"
    }
  },
  "cells": [
    {
      "cell_type": "markdown",
      "metadata": {
        "id": "GRpbnSTNKhvA"
      },
      "source": [
        "Problem :\n",
        "\n",
        "Task : Estimating the risk of death from coronavirus. Write a program that;\n",
        "\n",
        "Takes \"Yes\" or \"No\" from the user as an answer to the following questions :\n",
        "\n",
        "Are you a cigarette addict older than 75 years old? Variable → age\n",
        "\n",
        "Do you have a severe chronic disease? Variable → chronic\n",
        "\n",
        "Is your immune system too weak? Variable → immune\n",
        "\n",
        "Set a logical algorithm using boolean logic operators (and/or) and use if-statements with the given variables in order to print out us a message : \"You are in risky group\"(if True ) or \"You are not in risky group\" (if False).\n",
        "age =  # can be assigned only True/False\n",
        "chronic =  # can be assigned only True/False\n",
        "immune =  # can be assigned only True/False\n",
        "risk = ?"
      ]
    },
    {
      "cell_type": "code",
      "metadata": {
        "colab": {
          "base_uri": "https://localhost:8080/"
        },
        "id": "KvFR8lf5VroH",
        "outputId": "46aa7b63-19ab-4f84-e495-795df9812ac5"
      },
      "source": [
        "age = input(\"Are you a cigarette addict older than 75 years old? \")\n",
        "chronic =  input(\"Do you have a severe chronic disease? \")\n",
        "immune =  input(\"Is your immune system too weak? \")\n",
        "\n",
        "if (age == \"yes\" or chronic == \"yes\" or immune == \"yes\"):\n",
        "  print(\"You are in risky group\")\n",
        "elif (age == \"no\" and chronic == \"no\" and immune == \"no\"):\n",
        "  print(\"You are not in risky group\")"
      ],
      "execution_count": 2,
      "outputs": [
        {
          "output_type": "stream",
          "text": [
            "Are you a cigarette addict older than 75 years old? yes\n",
            "Do you have a severe chronic disease? yes\n",
            "Is your immune system too weak? yes\n",
            "You are in risky group\n"
          ],
          "name": "stdout"
        }
      ]
    }
  ]
}