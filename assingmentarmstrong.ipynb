{
  "nbformat": 4,
  "nbformat_minor": 0,
  "metadata": {
    "colab": {
      "name": "assingmentarmstrong.ipynb",
      "provenance": [],
      "collapsed_sections": []
    },
    "kernelspec": {
      "name": "python3",
      "display_name": "Python 3"
    },
    "language_info": {
      "name": "python"
    }
  },
  "cells": [
    {
      "cell_type": "code",
      "metadata": {
        "colab": {
          "base_uri": "https://localhost:8080/"
        },
        "id": "5znqzW9Eg6gp",
        "outputId": "3bee2399-2b9d-4dff-949c-eb68f0362da2"
      },
      "source": [
        "num = float(input(\"Enter a number: \"))\n",
        "\n",
        "arm = 0  \n",
        "\n",
        "num1 = num\n",
        "\n",
        "num1 = int(num1)\n",
        "while num1 > 0:  \n",
        "   arm2 = num1 % 10  \n",
        "   arm += arm2 ** 3  \n",
        "   num1 //= 10  \n",
        "\n",
        "if num == int(arm):\n",
        "  print(int(num),\"is an Armstrong number\")\n",
        "elif float(num) - int(num) !=0:\n",
        "  print(num, \" It is an invalid entry. Don't use non-numeric, float, or negative values!\")\n",
        "elif num < 0:\n",
        "  print(num, \" It is an invalid entry. Don't use non-numeric, float, or negative values!\")\n",
        "else:\n",
        "  print(int(num),\"is not a Armstrong number\")"
      ],
      "execution_count": 243,
      "outputs": [
        {
          "output_type": "stream",
          "text": [
            "Enter a number: 4.12\n",
            "4.12  It is an invalid entry. Don't use non-numeric, float, or negative values!\n"
          ],
          "name": "stdout"
        }
      ]
    }
  ]
}