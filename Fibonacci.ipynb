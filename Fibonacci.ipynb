{
  "nbformat": 4,
  "nbformat_minor": 0,
  "metadata": {
    "colab": {
      "name": "Fibonacci.ipynb",
      "provenance": [],
      "collapsed_sections": [],
      "authorship_tag": "ABX9TyOvNPYCXNzQNgim5Xdahc9Y",
      "include_colab_link": true
    },
    "kernelspec": {
      "name": "python3",
      "display_name": "Python 3"
    },
    "language_info": {
      "name": "python"
    }
  },
  "cells": [
    {
      "cell_type": "markdown",
      "metadata": {
        "id": "view-in-github",
        "colab_type": "text"
      },
      "source": [
        "<a href=\"https://colab.research.google.com/github/Serrgen/python-project/blob/main/Fibonacci.ipynb\" target=\"_parent\"><img src=\"https://colab.research.google.com/assets/colab-badge.svg\" alt=\"Open In Colab\"/></a>"
      ]
    },
    {
      "cell_type": "code",
      "metadata": {
        "id": "IlU3Jao6GoYm"
      },
      "source": [
        "def Fibonacci(n):\n",
        "  \n",
        "    if n < 0:\n",
        "        print(\"Incorrect input\")\n",
        "\n",
        "    elif n == 0:\n",
        "        return 0\n",
        " \n",
        "    elif n == 1 or n == 2:\n",
        "        return 1\n",
        " \n",
        "    else:\n",
        "        return Fibonacci(n-1) + Fibonacci(n-2)\n",
        "\n",
        "list1 = []\n",
        "for i in range(1,11):\n",
        "  list1.append(Fibonacci(i))\n",
        "\n",
        "\n",
        "print(list1)\n",
        " "
      ],
      "execution_count": null,
      "outputs": []
    }
  ]
}