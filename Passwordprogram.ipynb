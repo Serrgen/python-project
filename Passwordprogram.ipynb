{
  "nbformat": 4,
  "nbformat_minor": 0,
  "metadata": {
    "colab": {
      "name": "Passwordprogram.ipynb",
      "provenance": [],
      "collapsed_sections": []
    },
    "kernelspec": {
      "name": "python3",
      "display_name": "Python 3"
    },
    "language_info": {
      "name": "python"
    }
  },
  "cells": [
    {
      "cell_type": "code",
      "metadata": {
        "id": "neMV45vAD53c"
      },
      "source": [
        "User_list = {\"Joseph\":\"W@12\" , \"ali\" : \"1253\" , \"bruce\" : \"asdr\"}\n",
        "Name = input(\"What  is Your Name: \")\n",
        "if Name in User_list.keys():\n",
        "  print(\"Hello, {}! The password is : {}\".format(Name, User_list[Name]))\n",
        "else:\n",
        "  print(\"Hello, {}! See you later.\".format(Name))"
      ],
      "execution_count": null,
      "outputs": []
    }
  ]
}